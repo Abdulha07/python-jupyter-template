{
 "cells": [
  {
   "cell_type": "markdown",
   "metadata": {},
   "source": [
    "### Exercise 1: Line Plot Customization"
   ]
  },
  {
   "cell_type": "code",
   "execution_count": null,
   "metadata": {},
   "outputs": [],
   "source": [
    "import matplotlib.pyplot as plt\n",
    "\n",
    "# Data\n",
    "x = list(range(11))\n",
    "y = [i**2 for i in x]\n",
    "\n",
    "# Validate input lengths\n",
    "if len(x) != len(y):\n",
    "    raise ValueError(\"x and y must have the same length.\")\n",
    "\n",
    "# Create a line plot\n",
    "plt.plot(x, y, marker='o', linestyle='-', color='b')\n",
    "\n",
    "# Customization\n",
    "plt.title('Line Plot of x vs x²')\n",
    "plt.xlabel('x values')\n",
    "plt.ylabel('y values')\n",
    "plt.grid(True)\n",
    "\n",
    "# Show the plot\n",
    "plt.show()\n"
   ]
  }
 ],
 "metadata": {
  "language_info": {
   "name": "python"
  }
 },
 "nbformat": 4,
 "nbformat_minor": 2
}
